{
  "nbformat": 4,
  "nbformat_minor": 0,
  "metadata": {
    "colab": {
      "name": "Colorado_RE.ipynb",
      "provenance": [],
      "collapsed_sections": [],
      "authorship_tag": "ABX9TyO4DsyqB+WaiNVWX+FbBNOx",
      "include_colab_link": true
    },
    "kernelspec": {
      "name": "python3",
      "display_name": "Python 3"
    },
    "language_info": {
      "name": "python"
    }
  },
  "cells": [
    {
      "cell_type": "markdown",
      "metadata": {
        "id": "view-in-github",
        "colab_type": "text"
      },
      "source": [
        "<a href=\"https://colab.research.google.com/github/LinzStearns/CO_real_estate/blob/main/Colorado_RE.ipynb\" target=\"_parent\"><img src=\"https://colab.research.google.com/assets/colab-badge.svg\" alt=\"Open In Colab\"/></a>"
      ]
    },
    {
      "cell_type": "code",
      "execution_count": 1,
      "metadata": {
        "colab": {
          "base_uri": "https://localhost:8080/"
        },
        "id": "G4pqPGoIz1U2",
        "outputId": "b95abe70-04b0-421a-8261-0298f6901781"
      },
      "outputs": [
        {
          "output_type": "stream",
          "name": "stdout",
          "text": [
            "\r0% [Working]\r            \rGet:1 http://ppa.launchpad.net/c2d4u.team/c2d4u4.0+/ubuntu bionic InRelease [15.9 kB]\n",
            "\r0% [Waiting for headers] [Connecting to security.ubuntu.com (91.189.91.38)] [Co\r                                                                               \rHit:2 http://archive.ubuntu.com/ubuntu bionic InRelease\n",
            "\r0% [Connecting to security.ubuntu.com (91.189.91.38)] [Connected to cloud.r-pro\r                                                                               \rGet:3 http://archive.ubuntu.com/ubuntu bionic-updates InRelease [88.7 kB]\n",
            "\r                                                                               \rGet:4 https://cloud.r-project.org/bin/linux/ubuntu bionic-cran40/ InRelease [3,626 B]\n",
            "\r                                                                               \rHit:5 http://ppa.launchpad.net/cran/libgit2/ubuntu bionic InRelease\n",
            "\r0% [3 InRelease 88.7 kB/88.7 kB 100%] [Connecting to security.ubuntu.com (91.18\r0% [Waiting for headers] [Waiting for headers] [Waiting for headers] [Waiting f\r0% [2 InRelease gpgv 242 kB] [Waiting for headers] [Waiting for headers] [Waiti\r                                                                               \rGet:6 http://archive.ubuntu.com/ubuntu bionic-backports InRelease [74.6 kB]\n",
            "Hit:7 http://ppa.launchpad.net/deadsnakes/ppa/ubuntu bionic InRelease\n",
            "Get:8 http://ppa.launchpad.net/graphics-drivers/ppa/ubuntu bionic InRelease [21.3 kB]\n",
            "Get:9 http://security.ubuntu.com/ubuntu bionic-security InRelease [88.7 kB]\n",
            "Ign:10 https://developer.download.nvidia.com/compute/cuda/repos/ubuntu1804/x86_64  InRelease\n",
            "Ign:11 https://developer.download.nvidia.com/compute/machine-learning/repos/ubuntu1804/x86_64  InRelease\n",
            "Get:12 https://developer.download.nvidia.com/compute/cuda/repos/ubuntu1804/x86_64  Release [696 B]\n",
            "Hit:13 https://developer.download.nvidia.com/compute/machine-learning/repos/ubuntu1804/x86_64  Release\n",
            "Get:14 https://developer.download.nvidia.com/compute/cuda/repos/ubuntu1804/x86_64  Release.gpg [836 B]\n",
            "Get:15 http://ppa.launchpad.net/c2d4u.team/c2d4u4.0+/ubuntu bionic/main Sources [1,827 kB]\n",
            "Get:16 http://ppa.launchpad.net/c2d4u.team/c2d4u4.0+/ubuntu bionic/main amd64 Packages [937 kB]\n",
            "Get:17 http://archive.ubuntu.com/ubuntu bionic-updates/restricted amd64 Packages [840 kB]\n",
            "Get:18 http://archive.ubuntu.com/ubuntu bionic-updates/main amd64 Packages [3,035 kB]\n",
            "Get:19 http://archive.ubuntu.com/ubuntu bionic-updates/universe amd64 Packages [2,252 kB]\n",
            "Get:20 http://ppa.launchpad.net/graphics-drivers/ppa/ubuntu bionic/main amd64 Packages [42.8 kB]\n",
            "Get:21 http://security.ubuntu.com/ubuntu bionic-security/main amd64 Packages [2,596 kB]\n",
            "Get:22 http://security.ubuntu.com/ubuntu bionic-security/universe amd64 Packages [1,474 kB]\n",
            "Get:23 http://security.ubuntu.com/ubuntu bionic-security/restricted amd64 Packages [806 kB]\n",
            "Get:25 https://developer.download.nvidia.com/compute/cuda/repos/ubuntu1804/x86_64  Packages [930 kB]\n",
            "Fetched 15.0 MB in 6s (2,495 kB/s)\n",
            "Reading package lists... Done\n"
          ]
        }
      ],
      "source": [
        "import os\n",
        "# Find the latest version of spark 3.0 from http://www.apache.org/dist/spark/ and enter as the spark version\n",
        "# For example:\n",
        "# spark_version = 'spark-3.0.3'\n",
        "spark_version = 'spark-3.2.1'\n",
        "os.environ['SPARK_VERSION']=spark_version\n",
        "\n",
        "# Install Spark and Java\n",
        "!apt-get update\n",
        "!apt-get install openjdk-11-jdk-headless -qq > /dev/null\n",
        "!wget -q http://www.apache.org/dist/spark/$SPARK_VERSION/$SPARK_VERSION-bin-hadoop2.7.tgz\n",
        "!tar xf $SPARK_VERSION-bin-hadoop2.7.tgz\n",
        "!pip install -q findspark\n",
        "\n",
        "# Set Environment Variables\n",
        "import os\n",
        "os.environ[\"JAVA_HOME\"] = \"/usr/lib/jvm/java-11-openjdk-amd64\"\n",
        "os.environ[\"SPARK_HOME\"] = f\"/content/{spark_version}-bin-hadoop2.7\"\n",
        "\n",
        "# Start a SparkSession\n",
        "import findspark\n",
        "findspark.init()"
      ]
    },
    {
      "cell_type": "code",
      "source": [
        "!wget https://jdbc.postgresql.org/download/postgresql-42.2.16.jar"
      ],
      "metadata": {
        "colab": {
          "base_uri": "https://localhost:8080/"
        },
        "id": "T-yAkLWbz3Vj",
        "outputId": "b174a304-be5b-4fdc-ff89-6f51dbe0ca11"
      },
      "execution_count": 2,
      "outputs": [
        {
          "output_type": "stream",
          "name": "stdout",
          "text": [
            "--2022-02-26 20:54:10--  https://jdbc.postgresql.org/download/postgresql-42.2.16.jar\n",
            "Resolving jdbc.postgresql.org (jdbc.postgresql.org)... 72.32.157.228, 2001:4800:3e1:1::228\n",
            "Connecting to jdbc.postgresql.org (jdbc.postgresql.org)|72.32.157.228|:443... connected.\n",
            "HTTP request sent, awaiting response... 200 OK\n",
            "Length: 1002883 (979K) [application/java-archive]\n",
            "Saving to: ‘postgresql-42.2.16.jar’\n",
            "\n",
            "postgresql-42.2.16. 100%[===================>] 979.38K  1.69MB/s    in 0.6s    \n",
            "\n",
            "2022-02-26 20:54:11 (1.69 MB/s) - ‘postgresql-42.2.16.jar’ saved [1002883/1002883]\n",
            "\n"
          ]
        }
      ]
    },
    {
      "cell_type": "code",
      "source": [
        "from pyspark.sql import SparkSession\n",
        "spark = SparkSession.builder.appName(\"CloudETL\").config(\"spark.driver.extraClassPath\",\"/content/postgresql-42.2.16.jar\").getOrCreate()"
      ],
      "metadata": {
        "id": "aSHawkmfz9LP"
      },
      "execution_count": 3,
      "outputs": []
    },
    {
      "cell_type": "code",
      "source": [
        "# Read in data from S3 Buckets\n",
        "from pyspark import SparkFiles\n",
        "url =\"https://gonbri-corealestate.s3.amazonaws.com/clean_housing_v2.csv\"\n",
        "spark.sparkContext.addFile(url)\n",
        "clean_housing_df = spark.read.csv(SparkFiles.get(\"clean_housing_v2.csv\"), sep=\",\", header=True, inferSchema=True)"
      ],
      "metadata": {
        "id": "E5bx9QmU0A_E"
      },
      "execution_count": 4,
      "outputs": []
    },
    {
      "cell_type": "code",
      "source": [
        "#Show DataFrame\n",
        "clean_housing_df.show()"
      ],
      "metadata": {
        "colab": {
          "base_uri": "https://localhost:8080/"
        },
        "id": "BxvxtwU00F_4",
        "outputId": "58e5b010-ff35-4f0f-d856-121c40792d14"
      },
      "execution_count": 5,
      "outputs": [
        {
          "output_type": "stream",
          "name": "stdout",
          "text": [
            "+------------+----------+-----------+---------------------+--------------------+---------+----------+\n",
            "|    SCHEDNUM|SITUS_CITY|SITUS_STATE|APPRAISED_TOTAL_VALUE|          D_CLASS_CN|SALE_YEAR|SALE_PRICE|\n",
            "+------------+----------+-----------+---------------------+--------------------+---------+----------+\n",
            "| 20218093000|    DENVER|         CO|               319900|RESIDENTIAL-ROWHOUSE|     2021|    405000|\n",
            "|228310000000|    DENVER|         CO|               365000|RESIDENTIAL-CONDO...|     2020|    393500|\n",
            "|609302000000|    DENVER|         CO|               505800|RESIDENTIAL-ROWHOUSE|     2019|    513000|\n",
            "|609201000000|    DENVER|         CO|               400600|RESIDENTIAL-CONDO...|     2020|    395000|\n",
            "|234544000000|    DENVER|         CO|               509300|RESIDENTIAL-CONDO...|     2018|    515000|\n",
            "|705401000000|    DENVER|         CO|               252400|RESIDENTIAL-CONDO...|     2021|    284000|\n",
            "|229329000000|    DENVER|         CO|               916700|RESIDENTIAL-ROWHOUSE|     2020|    980000|\n",
            "|616305000000|    DENVER|         CO|               217200|RESIDENTIAL-CONDO...|     2020|    235604|\n",
            "|910110000000|    DENVER|         CO|               281200|RESIDENTIAL-CONDO...|     2018|    252500|\n",
            "|234537000000|    DENVER|         CO|              5525000|RESIDENTIAL-CONDO...|     2019|   5525000|\n",
            "|506120000000|    DENVER|         CO|               475300|RESIDENTIAL-ROWHOUSE|     2021|    575000|\n",
            "|502212000000|    DENVER|         CO|               298600|RESIDENTIAL-CONDO...|     2019|    310000|\n",
            "|233221000000|    DENVER|         CO|               420600|RESIDENTIAL-CONDO...|     2020|    410000|\n",
            "|228313000000|    DENVER|         CO|               763300|RESIDENTIAL-ROWHOUSE|     2020|    675000|\n",
            "|621320000000|    DENVER|         CO|               417700|RESIDENTIAL-ROWHOUSE|     2021|    495000|\n",
            "|910416000000|    DENVER|         CO|               181100|RESIDENTIAL-CONDO...|     2018|    195000|\n",
            "|219325000000|    DENVER|         CO|               767400|RESIDENTIAL-ROWHOUSE|     2018|    610000|\n",
            "|503807000000|    DENVER|         CO|               107900|RESIDENTIAL-CONDO...|     2019|  48308000|\n",
            "|527210000000|    DENVER|         CO|               836200|RESIDENTIAL-ROWHOUSE|     2019|    770000|\n",
            "|525208000000|    DENVER|         CO|              7060000|RESIDENTIAL-APART...|     2018|   6850000|\n",
            "+------------+----------+-----------+---------------------+--------------------+---------+----------+\n",
            "only showing top 20 rows\n",
            "\n"
          ]
        }
      ]
    },
    {
      "cell_type": "code",
      "source": [
        "mode = \"append\"\n",
        "jdbc_url=\"jdbc:postgresql://corealestatedb.c3ru0tkydktd.us-east-1.rds.amazonaws.com:5432/Colorado_RE\"\n",
        "config = {\"user\":\"Colorado\",\n",
        "          \"password\": \"realestate\",\n",
        "          \"driver\":\"org.postgresql.Driver\"}"
      ],
      "metadata": {
        "id": "nR4l9_DF0PhI"
      },
      "execution_count": 6,
      "outputs": []
    },
    {
      "cell_type": "code",
      "source": [
        "# Write DataFrame to active_user table in RDS\n",
        "clean_housing_df.write.jdbc(url=jdbc_url, table='clean_housing', mode=mode, properties=config)"
      ],
      "metadata": {
        "id": "NzP13IjU0TQN"
      },
      "execution_count": 7,
      "outputs": []
    }
  ]
}