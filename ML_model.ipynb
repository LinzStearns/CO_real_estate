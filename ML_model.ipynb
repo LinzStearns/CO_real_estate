{
  "nbformat": 4,
  "nbformat_minor": 0,
  "metadata": {
    "colab": {
      "name": "Module_20_Segment_1.ipynb",
      "provenance": [],
      "include_colab_link": true
    },
    "kernelspec": {
      "name": "python3",
      "display_name": "Python 3"
    },
    "language_info": {
      "name": "python"
    }
  },
  "cells": [
    {
      "cell_type": "markdown",
      "metadata": {
        "id": "view-in-github",
        "colab_type": "text"
      },
      "source": [
        "<a href=\"https://colab.research.google.com/github/LinzStearns/CO_real_estate/blob/mikequick/Module_20_Segment_1.ipynb\" target=\"_parent\"><img src=\"https://colab.research.google.com/assets/colab-badge.svg\" alt=\"Open In Colab\"/></a>"
      ]
    },
    {
      "cell_type": "code",
      "execution_count": null,
      "metadata": {
        "id": "-BZKMpmmNoUT"
      },
      "outputs": [],
      "source": [
        "# Import dependencies\n",
        "import pandas as pd\n",
        "from pathlib import Path\n",
        "import matplotlib.pyplot as plt\n",
        "from sklearn.linear_model import LinearRegression"
      ]
    },
    {
      "cell_type": "code",
      "source": [
        "# Load in CSV as a DataFrame\n",
        "df = pd.read_csv(Path(''))\n",
        "df.head()"
      ],
      "metadata": {
        "id": "oAlIgxC0OcDT"
      },
      "execution_count": null,
      "outputs": []
    },
    {
      "cell_type": "code",
      "source": [
        "# Independent variable located on X axis (variables that potentially impact housing cost)\n",
        "X = df.INDEPENDENTCOLUMN.values.reshape(-1, 1)"
      ],
      "metadata": {
        "id": "8j-RkntkOoV7"
      },
      "execution_count": null,
      "outputs": []
    },
    {
      "cell_type": "code",
      "source": [
        "# Examine shape of X to ensure proper formatting for scikit learn\n",
        "X.shape"
      ],
      "metadata": {
        "id": "EHI10Ea1DvcC"
      },
      "execution_count": null,
      "outputs": []
    },
    {
      "cell_type": "code",
      "source": [
        "# Dependent variable located on the Y axis (housing cost)\n",
        "y = df.DEPENDENTCOLUMN"
      ],
      "metadata": {
        "id": "0WZzbvZFOpQW"
      },
      "execution_count": null,
      "outputs": []
    },
    {
      "cell_type": "code",
      "source": [
        "# Create an instance of the Linear Regression model\n",
        "model = LinearRegression()"
      ],
      "metadata": {
        "id": "7O2pQeP9Oph2"
      },
      "execution_count": null,
      "outputs": []
    },
    {
      "cell_type": "code",
      "source": [
        "# Train/fit the model\n",
        "model.fit(X, y)"
      ],
      "metadata": {
        "id": "J5nwdvdxOppz"
      },
      "execution_count": null,
      "outputs": []
    },
    {
      "cell_type": "code",
      "source": [
        "# Create predictions and print the shape of y\n",
        "y_pred = model.predict(X)\n",
        "print(y_pred.shape)"
      ],
      "metadata": {
        "id": "jImMLX3hOpwb"
      },
      "execution_count": null,
      "outputs": []
    },
    {
      "cell_type": "code",
      "source": [
        "# Plot predictions\n",
        "plt.scatter(X, y)\n",
        "plt.plot(X, y_pred, color='red')\n",
        "plt.show()"
      ],
      "metadata": {
        "id": "dhyMdYE5Op2O"
      },
      "execution_count": null,
      "outputs": []
    }
  ]
}
